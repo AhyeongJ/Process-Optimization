{
  "nbformat": 4,
  "nbformat_minor": 0,
  "metadata": {
    "colab": {
      "private_outputs": true,
      "provenance": [],
      "toc_visible": true
    },
    "kernelspec": {
      "name": "python3",
      "display_name": "Python 3"
    },
    "language_info": {
      "name": "python"
    }
  },
  "cells": [
    {
      "cell_type": "markdown",
      "source": [
        "# 금속 주조 불량 판정 모델\n",
        "### <분석 목표>\n",
        "- 공정 환경과 공정 변수를 관리, 불량에 대응하여 공정 최적화 진행  \n",
        "- 불량 판별하는 모델 구축하여 생산성 향상 추진 및 비용 절감 기대\n"
      ],
      "metadata": {
        "id": "qfdkVGPunJTT"
      }
    },
    {
      "cell_type": "code",
      "source": [
        "# 필요한 패키지 불러오기\n",
        "import numpy as np\n",
        "import pandas as pd\n",
        "import matplotlib.pyplot as plt\n",
        "import seaborn as sns\n",
        "from scipy.stats import chi2_contingency\n",
        "from sklearn.tree import DecisionTreeClassifier\n",
        "from sklearn.tree import plot_tree"
      ],
      "metadata": {
        "id": "pWZNdDC7nWnw"
      },
      "execution_count": null,
      "outputs": []
    },
    {
      "cell_type": "markdown",
      "source": [
        "## 데이터 불러오기 및 데이터 기본 정보 확인하기"
      ],
      "metadata": {
        "id": "Zg0QnM3xn2gl"
      }
    },
    {
      "cell_type": "code",
      "source": [
        "df = pd.read_csv('./defect.csv', encoding = 'cp949')"
      ],
      "metadata": {
        "id": "CIRiVIwSnkip"
      },
      "execution_count": null,
      "outputs": []
    },
    {
      "cell_type": "code",
      "source": [
        "df.head()"
      ],
      "metadata": {
        "id": "Zzga6Wv6pGfz"
      },
      "execution_count": null,
      "outputs": []
    },
    {
      "cell_type": "code",
      "source": [
        "df.columns"
      ],
      "metadata": {
        "id": "YLEo3iNSpMFo"
      },
      "execution_count": null,
      "outputs": []
    },
    {
      "cell_type": "code",
      "source": [
        "df.info()"
      ],
      "metadata": {
        "id": "URmvkWYnpNKR"
      },
      "execution_count": null,
      "outputs": []
    },
    {
      "cell_type": "code",
      "source": [
        "df.isnull().sum()"
      ],
      "metadata": {
        "id": "a22R969EpQRN"
      },
      "execution_count": null,
      "outputs": []
    },
    {
      "cell_type": "code",
      "source": [
        "df.nunique()"
      ],
      "metadata": {
        "id": "-MgHsqIDpSRX"
      },
      "execution_count": null,
      "outputs": []
    },
    {
      "cell_type": "markdown",
      "source": [
        "## 데이터 전처리\n"
      ],
      "metadata": {
        "id": "4ZbOCjSypToQ"
      }
    },
    {
      "cell_type": "code",
      "source": [
        "# 컬럼명 변경\n",
        "df.columns = ['Unnamed:0', '작업라인', '제품명', '금형명', '수집날짜', '수집시각', '일자별제품생산번호',\n",
        "              '가동여부', '비상정지', '용탕온도', '설비작동사이클시간', '제품생산사이클시간',\n",
        "              '저속구간속도', '고속구간속도', '용탕량', '주조압력', '비스킷두께', '상금형온도1',\n",
        "              '상금형온도2', '상금형온도3', '하금형온도1', '하금형온도2', '하금형온도3', '슬리브온도',\n",
        "              '형체력', '냉각수온도', '전자교반가동시간', '등록일시', '불량판정', '사탕신호', '금형코드',\n",
        "              '가열로']"
      ],
      "metadata": {
        "id": "nIHiaJGypW44"
      },
      "execution_count": null,
      "outputs": []
    },
    {
      "cell_type": "code",
      "source": [
        "# 결측치 비율 확인\n",
        "df['불량판정'].value_counts()\n",
        "len(df[df['불량판정'] == 0]) /len(df) * 100\n",
        "len(df[df['불량판정'] == 1]) / len(df) * 100"
      ],
      "metadata": {
        "id": "h1KH5U2apZtN"
      },
      "execution_count": null,
      "outputs": []
    },
    {
      "cell_type": "code",
      "source": [
        "# 결측치 값이 30% 이상인 데이터들은 데이터의 완전성이 떨어지기 때문에 삭제\n",
        "df = df[df.isnull().mean(axis = 1) * 100 <= 30]"
      ],
      "metadata": {
        "id": "Hdm5NwCepfB_"
      },
      "execution_count": null,
      "outputs": []
    },
    {
      "cell_type": "markdown",
      "source": [
        "- 사탕신호가 'D'로 측정될 때, 해당 생산품은 전부 불량 판정(=1)\n",
        "- 해당 생산품은 다른 설명 변수를 고려하지 않고 사탕 신호로만 불량 여부 설명을 했다고 판단\n",
        "- 따라서, 'D'인 행들은 분석에서 고려하지 않기로 결정"
      ],
      "metadata": {
        "id": "SwKocv2upiUl"
      }
    },
    {
      "cell_type": "code",
      "source": [
        "import koreanize_matplotlib\n",
        "# NaN 값을 0으로 변환하고, 'D'는 1로 변환하는 코드 실행\n",
        "df['사탕신호'] = df['사탕신호'].replace('D', 1)  # 'D'를 1로 변환\n",
        "df['사탕신호'] = df['사탕신호'].fillna(0)  # NaN을 0으로 변환\n",
        "\n",
        "# 사탕신호의 unique 값 확인\n",
        "df['사탕신호'].unique()\n",
        "\n",
        "# 사탕신호가 1일 때 불량판정이 0인 비율과 1인 비율을 계산\n",
        "filtered_df = df[df['사탕신호'] == 1]\n",
        "filtered_df_zero = df[df['사탕신호'] == 0]\n",
        "\n",
        "# 불량판정의 비율 계산\n",
        "#passorfail_0_ratio = (filtered_df['불량판정'].value_counts(normalize=True)[0] * 100).round(2)\n",
        "#사탕신호 1인 것 중 실제 불량이 0인 비율 0%라 오류 뜸\n",
        "\n",
        "passorfail_0_ratio = 0.0\n",
        "#사탕신호 1인 것 중 실제 불량이 0인 비율은 0.0으로 수동 대체\n",
        "\n",
        "passorfail_1_ratio = (filtered_df['불량판정'].value_counts(normalize=True)[1] * 100).round(2)\n",
        "#사탕신호 1인 것 중 실제 불량이 1인 비율 100%\n",
        "\n",
        "passorfail_0_ratio_zero = (filtered_df_zero['불량판정'].value_counts(normalize=True)[0] * 100).round(2)\n",
        "#사탕신호 0인 것 중 실제 불량도 0인 비율 97.67%\n",
        "\n",
        "passorfail_1_ratio_zero = (filtered_df_zero['불량판정'].value_counts(normalize=True)[1] * 100).round(2)\n",
        "#사탕신호 0인 것 중 실제 불량이 1인 비율 2.33%\n",
        "\n",
        "# 비율 데이터를 리스트로 저장\n",
        "labels = ['NaN', 'D']\n",
        "fail_0_ratios = [passorfail_0_ratio_zero, passorfail_0_ratio]  # 불량판정 0 비율\n",
        "fail_1_ratios = [passorfail_1_ratio_zero, passorfail_1_ratio]  # 불량판정 1 비율\n",
        "\n",
        "x = np.arange(len(labels))  # 라벨의 개수만큼 x 위치 생성\n",
        "width = 0.35  # 막대 너비\n",
        "\n",
        "fig, ax = plt.subplots(figsize=(8, 6))\n",
        "\n",
        "# 불량판정 0 막대 그래프 그리기\n",
        "bars1 = ax.bar(x - width/2, fail_0_ratios, width, label='정상', color='#7FB3D5')\n",
        "\n",
        "# 불량판정 1 막대 그래프 그리기\n",
        "bars2 = ax.bar(x + width/2, fail_1_ratios, width, label='불량', color='#F1948A')\n",
        "\n",
        "# 각각의 막대에 % 비율 추가\n",
        "for bar in bars1:\n",
        "    ax.annotate(f'{bar.get_height():.2f}%',\n",
        "                (bar.get_x() + bar.get_width() / 2, bar.get_height()),\n",
        "                ha='center', va='bottom')\n",
        "\n",
        "for bar in bars2:\n",
        "    ax.annotate(f'{bar.get_height():.2f}%',\n",
        "                (bar.get_x() + bar.get_width() / 2, bar.get_height()),\n",
        "                ha='center', va='bottom')\n",
        "\n",
        "# 그래프 레이블 설정\n",
        "ax.set_ylabel('불량율 (%)')\n",
        "ax.set_title('사탕신호에 따른 불량판정 비율 비교')\n",
        "ax.set_xticks(x)\n",
        "ax.set_xticklabels(labels)\n",
        "ax.legend(loc='upper center', bbox_to_anchor=(0.5, 1.0), ncol=2)\n",
        "\n",
        "# 그래프 레이아웃 조정 및 출력\n",
        "plt.tight_layout()\n",
        "plt.show()"
      ],
      "metadata": {
        "id": "oYafBJKOp07d"
      },
      "execution_count": null,
      "outputs": []
    },
    {
      "cell_type": "code",
      "source": [
        "# '사탕신호'가 'D'인 행 Drop\n",
        "df = df[df['사탕신호'] != 1]"
      ],
      "metadata": {
        "id": "aj-dBeMSqkoO"
      },
      "execution_count": null,
      "outputs": []
    },
    {
      "cell_type": "markdown",
      "source": [
        "- 사용하지 않을 열 드롭\n",
        "- '등록일시' datetime 형식으로 데이터 타입 변경\n",
        "- 범주형 데이터 타입 변경"
      ],
      "metadata": {
        "id": "ntvz290qq9Mi"
      }
    },
    {
      "cell_type": "code",
      "source": [
        "# 열 Drop (등록일시 포함)\n",
        "eda_df = df.copy()\n",
        "eda_df =  eda_df.drop(columns=['Unnamed:0', '일자별제품생산번호', '작업라인', '사탕신호', '제품명', '금형명', '비상정지', '수집날짜', '수집시각'])\n",
        "df = df.drop(columns=['Unnamed:0', '일자별제품생산번호', '작업라인', '사탕신호', '제품명', '금형명', '비상정지', '수집날짜', '수집시각', '등록일시'])\n",
        "\n",
        "# '불량판정', '금형코드' 열을 범주형으로 변환\n",
        "\n",
        "df['불량판정'] = df['불량판정'].astype('category')\n",
        "df['금형코드'] = df['금형코드'].astype('category')\n",
        "\n",
        "eda_df['불량판정'] = eda_df['불량판정'].astype('category')\n",
        "eda_df['금형코드'] = eda_df['금형코드'].astype('category')\n",
        "\n",
        "df.isna().sum()"
      ],
      "metadata": {
        "id": "_YEtPDGnrEdo"
      },
      "execution_count": null,
      "outputs": []
    },
    {
      "cell_type": "markdown",
      "source": [
        "## 기초통계량 보기\n",
        "1. 불량(1)인 데이터들의 온도(상금형온도1, 상금형온도2, 하금형온도1, 하금형온도2)의 평균과 중앙값이 낮음.\n",
        "2. 불량(1)인 데이터들의 주조압력 평균과 중앙값이 낮음."
      ],
      "metadata": {
        "id": "1Vr5wv7NrNRq"
      }
    },
    {
      "cell_type": "code",
      "source": [
        "numeric_df = df[['용탕온도', '설비작동사이클시간', '제품생산사이클시간',\n",
        "              '저속구간속도', '고속구간속도', '용탕량', '주조압력', '비스킷두께', '상금형온도1',\n",
        "              '상금형온도2', '상금형온도3', '하금형온도1', '하금형온도2', '하금형온도3', '슬리브온도',\n",
        "              '형체력', '냉각수온도', '전자교반가동시간']]\n",
        "category_df = df[['가동여부', '금형코드', '가열로']]"
      ],
      "metadata": {
        "id": "xVAbkhPJrfNi"
      },
      "execution_count": null,
      "outputs": []
    },
    {
      "cell_type": "code",
      "source": [
        "numeric_df.describe()"
      ],
      "metadata": {
        "id": "MIgTs-v2rgdB"
      },
      "execution_count": null,
      "outputs": []
    },
    {
      "cell_type": "code",
      "source": [
        "defect_df = numeric_df[df['불량판정']==1]\n",
        "defect_df.describe()"
      ],
      "metadata": {
        "id": "VXsfXtS4rhok"
      },
      "execution_count": null,
      "outputs": []
    },
    {
      "cell_type": "code",
      "source": [
        "defect_df = numeric_df[df['불량판정']==0]\n",
        "defect_df.describe()"
      ],
      "metadata": {
        "id": "FOi4PkMZrjUP"
      },
      "execution_count": null,
      "outputs": []
    },
    {
      "cell_type": "markdown",
      "source": [
        "## 시각화\n",
        "### Target: 불량판정"
      ],
      "metadata": {
        "id": "xeYzwby1rlrR"
      }
    },
    {
      "cell_type": "code",
      "source": [
        "# 불량판정의 카운트 값 계산\n",
        "counts = df['불량판정'].value_counts()\n",
        "\n",
        "# '불량' 판정을 강조하기 위해 분리 (불량이 '1.0'이라고 가정)\n",
        "explode = [0.1 if label == '1' else 0 for label in counts.index]  # '1.0' 부분을 강조\n",
        "\n",
        "# 화려한 색상 팔레트 (색상 조정)\n",
        "colors = sns.color_palette('coolwarm', len(counts))\n",
        "\n",
        "# 파이 차트 그리기 (불량 조각을 빼냄)\n",
        "plt.figure(figsize=(6, 6))\n",
        "plt.pie(counts, labels=counts.index, autopct='%1.1f%%', explode=explode, colors=colors, wedgeprops={'edgecolor': 'none'})\n",
        "plt.title('사탕신호 \"D\" 행 제거 후 불량판정 분포', fontsize=15)\n",
        "plt.show()"
      ],
      "metadata": {
        "id": "FPHmQ5kZro3Z"
      },
      "execution_count": null,
      "outputs": []
    },
    {
      "cell_type": "markdown",
      "source": [
        "### 수치형 변수 시각화\n",
        "- 주조압력, 상금형온도1, 하금형온도1, 하금형온도2의 불량판정에 따른 분포가 상이한 것을 확인할 수 있음."
      ],
      "metadata": {
        "id": "ehWHv58jrvkU"
      }
    },
    {
      "cell_type": "code",
      "source": [
        "# 수치형 변수들에 대한 박스플롯을 서브플롯으로 그리는 함수\n",
        "def boxplot_subplots(df):\n",
        "    # 수치형 변수 선택 (int64와 float64 타입만 선택)\n",
        "    numeric_cols = numeric_df.columns\n",
        "\n",
        "    # 불량판정을 범주형 변수로 변환 (안전성을 위해 처리)\n",
        "    if '불량판정' in df.columns:\n",
        "        df['불량판정'] = df['불량판정'].astype(str)\n",
        "\n",
        "    # 서브플롯 행 계산 (한 열에 두 개의 서브플롯 배치)\n",
        "    total_plots = len(numeric_cols) * 2  # 한 변수당 2개의 플롯\n",
        "    max_cols = 2  # 한 행에 2개의 서브플롯\n",
        "    max_rows = int(np.ceil(total_plots / max_cols))  # 행 개수 계산\n",
        "\n",
        "    plt.figure(figsize=(15, 6 * max_rows))  # 전체 플롯 크기 설정\n",
        "\n",
        "    plot_index = 1\n",
        "    for col in numeric_cols:\n",
        "        # 첫 번째 서브플롯: 불량판정 기준으로 박스플롯\n",
        "        plt.subplot(max_rows, max_cols, plot_index)\n",
        "        sns.boxplot(data=df, x='불량판정', y=col, palette='Set2')\n",
        "        plt.title(f'{col}의 불량판정별 박스플롯', fontsize=12)\n",
        "        plt.xlabel('불량판정', fontsize=10)\n",
        "        plt.ylabel(col, fontsize=10)\n",
        "        plt.xticks(rotation=90)\n",
        "        plot_index += 1\n",
        "\n",
        "        # 두 번째 서브플롯: 전체 데이터를 대상으로 박스플롯\n",
        "        plt.subplot(max_rows, max_cols, plot_index)\n",
        "        sns.boxplot(data=df, y=col)\n",
        "        plt.title(f'{col}의 전체 데이터 박스플롯', fontsize=12)\n",
        "        plt.ylabel(col, fontsize=10)\n",
        "        plt.xticks(rotation=90)\n",
        "        plot_index += 1\n",
        "\n",
        "    plt.tight_layout()  # 서브플롯 간의 간격 조정\n",
        "    plt.show()\n",
        "\n",
        "# 박스플롯 그리기\n",
        "boxplot_subplots(df)"
      ],
      "metadata": {
        "id": "rKPRff5iryBp"
      },
      "execution_count": null,
      "outputs": []
    },
    {
      "cell_type": "markdown",
      "source": [
        "## 일별 분량판정률 변화\n",
        "- 1월 2일, 1월 27일, 2월 12일의 불량판정평균이 높음"
      ],
      "metadata": {
        "id": "CcOkmO1wr6NZ"
      }
    },
    {
      "cell_type": "code",
      "source": [
        "# 불량판정 열을 float으로 변환\n",
        "eda_df['불량판정'] = pd.to_numeric(eda_df['불량판정'], errors='coerce')\n",
        "# 불량 판정의 일별 불량률 계산\n",
        "def plot_daily_failure_rate(df, date_col, fail_col):\n",
        "    # '등록일시' 열을 datetime 형식으로 변환\n",
        "    df[date_col] = pd.to_datetime(df[date_col], errors='coerce')\n",
        "\n",
        "    # '불량판정' 열을 숫자형(float)으로 변환\n",
        "    df[fail_col] = pd.to_numeric(df[fail_col], errors='coerce')\n",
        "\n",
        "    # 일별로 그룹화하여 불량률 계산\n",
        "    daily_failure_rate = df.groupby(df[date_col].dt.date)[fail_col].mean().reset_index()\n",
        "    daily_failure_rate.columns = ['Date', 'Failure Rate']  # 새로운 열 이름 설정\n",
        "\n",
        "    # 그래프 그리기\n",
        "    plt.figure(figsize=(10, 5))\n",
        "    sns.lineplot(data=daily_failure_rate, x='Date', y='Failure Rate', marker='o', color='orange')\n",
        "\n",
        "    # 그래프 설정\n",
        "    plt.title('일별 불량판정률 변화', fontsize=15)\n",
        "    plt.xlabel('날짜', fontsize=12)\n",
        "    plt.ylabel('불량률', fontsize=12)\n",
        "    plt.xticks(rotation=45)\n",
        "    plt.grid(True)\n",
        "\n",
        "    # 그래프 출력\n",
        "    plt.tight_layout()\n",
        "    plt.show()\n",
        "\n",
        "    return daily_failure_rate  # 일별 불량률 데이터 반환\n",
        "\n",
        "# 상위 n개의 불량률이 높은 날짜를 추출하는 함수\n",
        "def find_top_n_failure_dates(df, n=3):\n",
        "    # 불량률이 높은 순서대로 상위 n개 데이터 추출\n",
        "    top_n = df.nlargest(n, 'Failure Rate')\n",
        "    return top_n\n",
        "\n",
        "# 일별 불량률 계산 및 그래프 그리기\n",
        "daily_failure_rate = plot_daily_failure_rate(eda_df, '등록일시', '불량판정')\n",
        "\n",
        "# 상위 3개의 날짜 추출\n",
        "top_3_dates = find_top_n_failure_dates(daily_failure_rate, n=3)\n",
        "print(top_3_dates)"
      ],
      "metadata": {
        "id": "XKKhUcEJr-zD"
      },
      "execution_count": null,
      "outputs": []
    },
    {
      "cell_type": "markdown",
      "source": [
        "### 1월 27일 수치형 변수들과 불량률 라인 그래프\n",
        "- 설비작동사이클시간이 길 때 불량률 높은 경향을 보임\n",
        "- 주조압력이 낮을 때 불량률 높은 경향을 보임\n",
        "- 저속구간속도가 낮을 때 불량률 높은 경향을 보임\n",
        "- 슬리브온도가 낮을 때 불량률 높은 경향을 보임\n",
        "- 상금형온도1,2가 낮을 때 불량률이 높은 경향을 보임\n",
        "- 하금형온도1,2가 낮을 때 불량률이 높은 경향을 보임"
      ],
      "metadata": {
        "id": "h1pAOFOysMNF"
      }
    },
    {
      "cell_type": "code",
      "source": [
        "# 불량률과 수치형 변수 겹쳐 그리기\n",
        "def plot_numeric_variables_and_defect_rate(df, defect_col, time_col, numeric_cols, date):\n",
        "    # 특정 날짜에 해당하는 데이터 필터링\n",
        "    df[time_col] = pd.to_datetime(df[time_col])\n",
        "    daily_data = df[df[time_col].dt.date == pd.to_datetime(date).date()]\n",
        "\n",
        "    # 불량률 계산 (불량 판정 열이 1일 때 불량으로 간주)\n",
        "    daily_data['불량률'] = daily_data[defect_col].rolling(window=10, min_periods=1).mean()\n",
        "\n",
        "    # 서브플롯 그리기 (한 줄에 2개의 그래프씩)\n",
        "    num_vars = len(numeric_cols)\n",
        "    fig, axes = plt.subplots(num_vars, 1, figsize=(12, 4 * num_vars), sharex=True)\n",
        "\n",
        "    if num_vars == 1:\n",
        "        axes = [axes]  # 1개일 경우 리스트로 변환\n",
        "\n",
        "    for i, col in enumerate(numeric_cols):\n",
        "        ax = axes[i]\n",
        "\n",
        "        # 수치형 변수의 선 그래프\n",
        "        ax.plot(daily_data[time_col], daily_data[col], label=col, color='blue')\n",
        "        ax.set_ylabel(col)\n",
        "\n",
        "        # 불량률 선 그래프 (이중 y축)\n",
        "        ax2 = ax.twinx()\n",
        "        ax2.plot(daily_data[time_col], daily_data['불량률'], label='불량률', color='orange', alpha=0.7, linestyle='--')\n",
        "        ax2.set_ylabel('불량률')\n",
        "        ax2.set_ylim(0, 1)  # 불량률은 0에서 1 사이로 고정\n",
        "\n",
        "        # 범례 추가\n",
        "        ax.legend(loc='upper left')\n",
        "        ax2.legend(loc='upper right')\n",
        "\n",
        "    # X축에 시간 표시\n",
        "    plt.xlabel('시간')\n",
        "    plt.xticks(rotation=45)\n",
        "    plt.tight_layout()\n",
        "    plt.show()\n",
        "\n",
        "# 예시 사용법\n",
        "numeric_cols = df.select_dtypes(include=['int64', 'float64']).columns\n",
        "plot_numeric_variables_and_defect_rate(eda_df, '불량판정', '등록일시', numeric_cols, '2019-01-27')\n"
      ],
      "metadata": {
        "id": "pBV5LRGksadD"
      },
      "execution_count": null,
      "outputs": []
    },
    {
      "cell_type": "markdown",
      "source": [
        "## 전자교반가동시간 시각화"
      ],
      "metadata": {
        "id": "qpAE_Me-sb0n"
      }
    },
    {
      "cell_type": "code",
      "source": [
        "sns.countplot(data = eda_df, x = '전자교반가동시간', hue = '불량판정')"
      ],
      "metadata": {
        "id": "jQ_2jAKZsxcr"
      },
      "execution_count": null,
      "outputs": []
    },
    {
      "cell_type": "markdown",
      "source": [
        "## 범주형 변수 시각화 및 가설검정\n",
        "- 가동 여부와 금형 코드에 따라 불량 판정이 달라짐\n",
        "- 가열로와 불량 판정은 서로 독립적\n"
      ],
      "metadata": {
        "id": "bZU-jYdjs3Mk"
      }
    },
    {
      "cell_type": "markdown",
      "source": [
        "### 가동여부"
      ],
      "metadata": {
        "id": "pkBYtrqxs657"
      }
    },
    {
      "cell_type": "code",
      "source": [
        "df['가동여부'].value_counts()\n",
        "pivot_working = df.pivot_table(index='가동여부', columns='불량판정', aggfunc='size', fill_value=0)\n",
        "pivot_working"
      ],
      "metadata": {
        "id": "fow5Qyl1s-_e"
      },
      "execution_count": null,
      "outputs": []
    },
    {
      "cell_type": "code",
      "source": [
        "sns.countplot(data = eda_df, x = '가동여부', hue = '불량판정', palette='Blues')\n",
        "# 그래프 제목 및 라벨 설정\n",
        "plt.title('가동여부별 불량판정 Barplot')\n",
        "plt.xlabel('가동여부')\n",
        "plt.ylabel('Count')\n",
        "plt.legend(title='불량판정')\n",
        "plt.show()"
      ],
      "metadata": {
        "id": "eQdrT45jtALX"
      },
      "execution_count": null,
      "outputs": []
    },
    {
      "cell_type": "code",
      "source": [
        "# 교차표 생성\n",
        "cross_tab = pd.crosstab(df['가동여부'], df['불량판정'])\n",
        "\n",
        "# 카이제곱 검정 수행\n",
        "chi2, p, dof, expected = chi2_contingency(cross_tab)\n",
        "\n",
        "# 결과 출력\n",
        "print(f\"Chi-square statistic: {chi2}\")\n",
        "print(f\"p-value: {p}\")"
      ],
      "metadata": {
        "id": "CmQ8ok4ctBnv"
      },
      "execution_count": null,
      "outputs": []
    },
    {
      "cell_type": "markdown",
      "source": [
        "대립가설 채택, 가동여부에 따라 불량판정이 달라짐"
      ],
      "metadata": {
        "id": "gjO8ni8EtHTx"
      }
    },
    {
      "cell_type": "markdown",
      "source": [
        "### 금형코드"
      ],
      "metadata": {
        "id": "t6BZtZKBtN1c"
      }
    },
    {
      "cell_type": "code",
      "source": [
        "pivot_code = df.pivot_table(index = '금형코드', columns = '불량판정', aggfunc = 'size', fill_value=0)\n",
        "pivot_code"
      ],
      "metadata": {
        "id": "UNfyvxf2tPCt"
      },
      "execution_count": null,
      "outputs": []
    },
    {
      "cell_type": "code",
      "source": [
        "# 피벗 테이블을 barplot에 맞게 다시 변환\n",
        "pivot_reset = pivot_code.reset_index().melt(id_vars='금형코드', value_vars=['0.0', '1.0'], var_name='불량판정', value_name='Count')\n",
        "\n",
        "# barplot 그리기\n",
        "plt.figure(figsize=(10,6))\n",
        "sns.barplot(data=pivot_reset, x='금형코드', y='Count', hue='불량판정', palette='Blues')\n",
        "\n",
        "# 그래프 제목 및 라벨 설정\n",
        "plt.title('금형코드별 불량판정 Barplot')\n",
        "plt.xlabel('금형코드')\n",
        "plt.ylabel('Count')\n",
        "plt.legend(title='불량판정')\n",
        "plt.show()"
      ],
      "metadata": {
        "id": "GCw4m1OGtQtg"
      },
      "execution_count": null,
      "outputs": []
    },
    {
      "cell_type": "code",
      "source": [
        "# 교차표 생성\n",
        "cross_tab = pd.crosstab(df['금형코드'], df['불량판정'])\n",
        "\n",
        "# 카이제곱 검정 수행\n",
        "chi2, p, dof, expected = chi2_contingency(cross_tab)\n",
        "\n",
        "# 결과 출력\n",
        "print(f\"Chi-square statistic: {chi2}\")\n",
        "print(f\"p-value: {p}\")"
      ],
      "metadata": {
        "id": "0LmrmSCLtSOV"
      },
      "execution_count": null,
      "outputs": []
    },
    {
      "cell_type": "markdown",
      "source": [
        "대립가설 채택, 금형코드에 따라 불량판정이 달라짐"
      ],
      "metadata": {
        "id": "Ht5a5qE4tY0G"
      }
    },
    {
      "cell_type": "markdown",
      "source": [
        "### 가열로"
      ],
      "metadata": {
        "id": "Le-R8f-htbiK"
      }
    },
    {
      "cell_type": "code",
      "source": [
        "df['가열로'].value_counts()\n",
        "df['가열로'] = df['가열로'].fillna('F')\n",
        "pivot_heating = df.pivot_table(index='가열로', columns='불량판정', aggfunc='size', fill_value=0)\n",
        "pivot_heating"
      ],
      "metadata": {
        "id": "XWwIFfPCtchB"
      },
      "execution_count": null,
      "outputs": []
    },
    {
      "cell_type": "code",
      "source": [
        "# 피벗 테이블을 barplot에 맞게 다시 변환\n",
        "pivotreset_heating = pivot_heating.reset_index().melt(id_vars='가열로', value_vars=['0.0', '1.0'], var_name='불량판정', value_name='Count')\n",
        "\n",
        "# barplot 그리기\n",
        "plt.figure(figsize=(10,6))\n",
        "sns.barplot(data=pivotreset_heating, x='가열로', y='Count', hue='불량판정', palette='Blues')\n",
        "\n",
        "# 그래프 제목 및 라벨 설정\n",
        "plt.title('가열로별 불량판정 Barplot')\n",
        "plt.xlabel('가열로')\n",
        "plt.ylabel('Count')\n",
        "plt.legend(title='불량판정')\n",
        "plt.show()"
      ],
      "metadata": {
        "id": "Ju1gzmfzte7T"
      },
      "execution_count": null,
      "outputs": []
    },
    {
      "cell_type": "code",
      "source": [
        "# 교차표 생성\n",
        "cross_tab = pd.crosstab(df['가열로'], df['불량판정'])\n",
        "\n",
        "# 카이제곱 검정 수행\n",
        "chi2, p, dof, expected = chi2_contingency(cross_tab)\n",
        "\n",
        "# 결과 출력\n",
        "print(f\"Chi-square statistic: {chi2}\")\n",
        "print(f\"p-value: {p}\")"
      ],
      "metadata": {
        "id": "nKUWyoeOtf_-"
      },
      "execution_count": null,
      "outputs": []
    },
    {
      "cell_type": "markdown",
      "source": [
        "귀무가설 채택, 가열로와 불량판정은 서로 독립"
      ],
      "metadata": {
        "id": "fTe-dpljtiDa"
      }
    },
    {
      "cell_type": "markdown",
      "source": [
        "## 전처리\n",
        "### 결측치 처리"
      ],
      "metadata": {
        "id": "hU2gXZhEtnOu"
      }
    },
    {
      "cell_type": "code",
      "source": [
        "# 가열로, 용탕온도, 용탕량, 하금형온도, 상금형온도3에서 결측치 발견\n",
        "df.isna().sum()"
      ],
      "metadata": {
        "id": "IcP9dprbtpqQ"
      },
      "execution_count": null,
      "outputs": []
    },
    {
      "cell_type": "markdown",
      "source": [
        "### 용탕온도, 용탕량, 하금형온도3에 대해 선형 보간 적용"
      ],
      "metadata": {
        "id": "9yGAJ9jotulJ"
      }
    },
    {
      "cell_type": "code",
      "source": [
        "# 선형보간용 df2를 만듦\n",
        "df2 = df.copy()\n",
        "\n",
        "# 실제값, NaN, NaN, 실제값이 나오는 인덱스 출력\n",
        "df2['상금형온도3'][634:638]\n",
        "\n",
        "# 인덱스를 리셋해서 숫자형으로 만듦\n",
        "df_reset = df2.reset_index(drop=True)\n",
        "\n",
        "# 해당 구간 추출 (634~637 사용)\n",
        "subset_df = df_reset.loc[634:637, ['상금형온도3']]\n",
        "\n",
        "# 선형 보간 적용\n",
        "subset_df['상금형온도3'] = subset_df['상금형온도3'].interpolate(method='linear')\n",
        "\n",
        "# 보간된 결과 출력\n",
        "subset_df\n",
        "\n",
        "# 보간 전\n",
        "#634   150.000000\n",
        "#635   NaN\n",
        "#636   NaN\n",
        "#637   124.000000\n",
        "\n",
        "# 보간 후\n",
        "#634   150.000000\n",
        "#635   141.333333\n",
        "#636   132.666667\n",
        "#637   124.000000\n",
        "\n",
        "# 시각화\n",
        "plt.figure(figsize=(8, 6))\n",
        "\n",
        "# 선형 보간된 값을 선으로 연결하여 시각화\n",
        "plt.plot(subset_df.index, subset_df['상금형온도3'], marker='o', linestyle='-', color='blue', label='선형보간 이후')\n",
        "\n",
        "# NaN이었던 값들 강조 (보간된 값 표시)\n",
        "plt.scatter([635, 636], subset_df.loc[[635, 636], '상금형온도3'], color='red', label='보간된 NaN', zorder=5)\n",
        "\n",
        "# 그래프 축을 데이터 범위에 맞게 설정\n",
        "plt.ylim(subset_df['상금형온도3'].min() - 10, subset_df['상금형온도3'].max() + 10)\n",
        "\n",
        "# 라벨 설정\n",
        "plt.xlabel('인덱스')\n",
        "plt.ylabel('상금형온도3')\n",
        "plt.title('상금형온도3 보간 후 비교 (NaN 강조)')\n",
        "\n",
        "# 범례 추가\n",
        "plt.legend()\n",
        "\n",
        "# 그래프 출력\n",
        "plt.show()"
      ],
      "metadata": {
        "id": "f3rQBsKnty6q"
      },
      "execution_count": null,
      "outputs": []
    },
    {
      "cell_type": "code",
      "source": [
        "df['용탕온도'] = df['용탕온도'].interpolate(method='linear', limit_direction='both')\n",
        "df['용탕량'] = df['용탕량'].interpolate(method='linear', limit_direction='both')\n",
        "df['하금형온도3'] = df['하금형온도3'].interpolate(method='linear', limit_direction='both')\n",
        "df['상금형온도3'] = df['상금형온도3'].interpolate(method='linear', limit_direction='both')\n",
        "df.isna().sum()"
      ],
      "metadata": {
        "id": "kk_PSno0t3lu"
      },
      "execution_count": null,
      "outputs": []
    },
    {
      "cell_type": "markdown",
      "source": [
        "## 이상치 제거"
      ],
      "metadata": {
        "id": "ermOHklUt5PS"
      }
    },
    {
      "cell_type": "code",
      "source": [
        "# 수치형 변수들에 대한 박스플롯을 서브플롯으로 그리는 함수\n",
        "def boxplot_subplots(df):\n",
        "    # 수치형 변수 선택 (int64와 float64 타입만 선택)\n",
        "    numeric_cols = df.select_dtypes(include=['int64', 'float64']).columns\n",
        "\n",
        "    # 서브플롯 행 계산 (한 행에 2개의 서브플롯 배치)\n",
        "    total_plots = len(numeric_cols)  # 각 변수당 1개의 플롯\n",
        "    max_cols = 2  # 한 행에 2개의 서브플롯\n",
        "    max_rows = int(np.ceil(total_plots / max_cols))  # 행 개수 계산\n",
        "\n",
        "    plt.figure(figsize=(15, 6 * max_rows))  # 전체 플롯 크기 설정\n",
        "\n",
        "    plot_index = 1\n",
        "    for col in numeric_cols:\n",
        "        # 각 변수에 대해 하나의 박스플롯 그리기\n",
        "        plt.subplot(max_rows, max_cols, plot_index)\n",
        "        sns.boxplot(data=df, y=col, palette='Set2')\n",
        "        plt.title(f'{col}의 박스플롯', fontsize=12)\n",
        "        plt.ylabel(col, fontsize=10)\n",
        "        plt.xticks(rotation=90)\n",
        "        plot_index += 1\n",
        "\n",
        "    plt.tight_layout()  # 서브플롯 간의 간격 조정\n",
        "    plt.show()\n",
        "\n",
        "# 박스플롯 그리기\n",
        "boxplot_subplots(df)"
      ],
      "metadata": {
        "id": "kcmHtXEDt7_P"
      },
      "execution_count": null,
      "outputs": []
    },
    {
      "cell_type": "code",
      "source": [
        "df = df[df['설비작동사이클시간'] <= 400] # 1\n",
        "df = df[df['제품생산사이클시간'] <= 450] # 2\n",
        "df = df[df['저속구간속도'] <= 60000] # 1\n",
        "df = df[df['상금형온도1'] <= 1400] # 1\n",
        "df = df[df['상금형온도2'] <= 4000] # 1\n",
        "df = df[df['하금형온도3'] <= 60000] # 1\n",
        "df = df[df['형체력'] <= 60000] # 3\n",
        "df = df[df['냉각수온도'] <= 1400] # 9"
      ],
      "metadata": {
        "id": "D_Fnk1TMt-Zj"
      },
      "execution_count": null,
      "outputs": []
    },
    {
      "cell_type": "markdown",
      "source": [
        "### 변수 간 상관관계 확인하기"
      ],
      "metadata": {
        "id": "5-cUkBSPuBHv"
      }
    },
    {
      "cell_type": "code",
      "source": [
        "def plot_spearman_corr(df):\n",
        "    # 수치형 변수만 선택\n",
        "    numeric_cols = df.select_dtypes(include=['float64', 'int64']).columns\n",
        "\n",
        "    # 스피어만 상관계수 계산\n",
        "    spearman_corr = df[numeric_cols].corr(method='spearman')\n",
        "\n",
        "    # 히트맵으로 상관계수 시각화\n",
        "    plt.figure(figsize=(10, 8))\n",
        "    sns.heatmap(spearman_corr, annot=True, cmap='coolwarm', fmt='.2f', linewidths=0.5)\n",
        "    plt.title('스피어만 순위 상관계수 히트맵')\n",
        "    plt.show()\n",
        "\n",
        "# 함수 호출\n",
        "plot_spearman_corr(df)\n"
      ],
      "metadata": {
        "id": "7owjyYA1uDn2"
      },
      "execution_count": null,
      "outputs": []
    },
    {
      "cell_type": "markdown",
      "source": [
        "## IV(Information Value)"
      ],
      "metadata": {
        "id": "8hfbGakxvYrS"
      }
    },
    {
      "cell_type": "code",
      "source": [
        "# 랜덤 시드 설정\n",
        "np.random.seed(42)\n",
        "df['불량판정'] = pd.to_numeric(df['불량판정'], errors='coerce')"
      ],
      "metadata": {
        "id": "JZBKHHskvePW"
      },
      "execution_count": null,
      "outputs": []
    },
    {
      "cell_type": "markdown",
      "source": [
        "### 주조압력 IV"
      ],
      "metadata": {
        "id": "ad-l-ofQvfba"
      }
    },
    {
      "cell_type": "code",
      "source": [
        "def 동일_데이터_구간_나누기(df, column, num_bins=10):\n",
        "    # 데이터 수 동일한 구간으로 나누기 (중복 허용)\n",
        "    df['구간'] = pd.qcut(df[column].rank(method='first'), q=num_bins, labels=False)\n",
        "\n",
        "    # 각 구간에 대한 통계 정보 계산\n",
        "    grouped = df.groupby('구간').apply(lambda x: pd.Series({\n",
        "        '데이터 건수': len(x),\n",
        "        '불량판정 0 개수': (x['불량판정'] == 0).sum(),\n",
        "        '불량판정 1 개수': (x['불량판정'] == 1).sum()\n",
        "    })).reset_index()\n",
        "\n",
        "    # WOE와 IV 계산\n",
        "    total_good = df['불량판정'].value_counts()[0]\n",
        "    total_bad = df['불량판정'].value_counts()[1]\n",
        "\n",
        "    # 각 구간의 비율 계산\n",
        "    grouped['불량판정 0 비율'] = grouped['불량판정 0 개수'] / total_good\n",
        "    grouped['불량판정 1 비율'] = grouped['불량판정 1 개수'] / total_bad\n",
        "\n",
        "    # WOE 계산\n",
        "    grouped['WOE'] = np.log(grouped['불량판정 1 비율'] / grouped['불량판정 0 비율'].replace(0, np.nan))\n",
        "\n",
        "    # IV 계산\n",
        "    grouped['IV'] = (grouped['불량판정 1 비율'] - grouped['불량판정 0 비율']) * grouped['WOE']\n",
        "    iv_value = grouped['IV'].sum()  # 전체 IV 값\n",
        "\n",
        "    # 수치 범위 추가\n",
        "    grouped['수치 범위'] = grouped.apply(lambda x: f\"{df[df['구간'] == x['구간']][column].min()} - {df[df['구간'] == x['구간']][column].max()}\", axis=1)\n",
        "\n",
        "    # 수치 범위를 첫 번째 열로 이동\n",
        "    grouped = grouped[['수치 범위', '구간', '데이터 건수', '불량판정 0 개수', '불량판정 1 개수',\n",
        "                       '불량판정 0 비율', '불량판정 1 비율', 'WOE', 'IV']]\n",
        "\n",
        "    return grouped, iv_value\n",
        "\n",
        "result, total_iv = 동일_데이터_구간_나누기(df, '주조압력', num_bins=10)\n",
        "result"
      ],
      "metadata": {
        "id": "KNjnldRfvi76"
      },
      "execution_count": null,
      "outputs": []
    },
    {
      "cell_type": "markdown",
      "source": [
        "### 전체 변수 IV\n",
        "- 공정 최적화를 위해 관리해야할 IV 값 상위 3개 변수를 선정: 주조압력, 하금형온도2, 하금형온도1"
      ],
      "metadata": {
        "id": "RGB4V5EBvjw7"
      }
    },
    {
      "cell_type": "code",
      "source": [
        "# IV 계산 함수 (범주형 및 수치형 변수를 모두 처리)\n",
        "def calculate_iv(df, target, cat_cols):\n",
        "    iv_dict = {}\n",
        "\n",
        "    # 타겟 변수를 숫자로 변환 (필요한 경우)\n",
        "    df[target] = pd.to_numeric(df[target], errors='coerce')  # 불량판정 열을 숫자형으로 변환\n",
        "\n",
        "    total_events = df[target].sum()  # 타겟이 1인 경우의 총합 (이벤트)\n",
        "    total_non_events = df[target].count() - total_events  # 타겟이 0인 경우의 총합 (비이벤트)\n",
        "\n",
        "    # 범주형 변수 처리\n",
        "    for col in cat_cols:\n",
        "        # 각 범주별 이벤트와 비이벤트 수 계산\n",
        "        grouped = df.groupby(col)[target].agg(['count', 'sum']).reset_index()\n",
        "        grouped.columns = [col, 'total', 'events']\n",
        "\n",
        "        # 비이벤트 수 계산\n",
        "        grouped['non_events'] = grouped['total'] - grouped['events']\n",
        "\n",
        "        # WOE 및 IV 계산\n",
        "        grouped['event_rate'] = grouped['events'] / total_events\n",
        "        grouped['non_event_rate'] = grouped['non_events'] / total_non_events\n",
        "        grouped['WOE'] = np.log(grouped['event_rate'] / grouped['non_event_rate']).replace([np.inf, -np.inf], 0)  # 무한대 처리\n",
        "        grouped['IV'] = (grouped['event_rate'] - grouped['non_event_rate']) * grouped['WOE']\n",
        "\n",
        "        # IV 값 계산\n",
        "        iv = grouped['IV'].sum()\n",
        "        iv_dict[col] = iv\n",
        "\n",
        "    # 수치형 변수 처리\n",
        "    for col in df.select_dtypes(include=[np.number]).columns:\n",
        "        if col == target:  # 타겟 변수를 제외\n",
        "            continue\n",
        "\n",
        "        # 데이터를 10개 구간으로 나누기\n",
        "        df['ranked'] = df[col].rank(method='first')\n",
        "        df['bin'] = pd.qcut(df['ranked'], 10, labels=False, duplicates='drop')\n",
        "\n",
        "        # 각 구간에 대한 이벤트와 비이벤트 수 계산\n",
        "        grouped = df.groupby('bin')[target].agg(['count', 'sum']).reset_index()\n",
        "        grouped.columns = ['bin', 'total', 'events']\n",
        "\n",
        "        # 비이벤트 계산\n",
        "        grouped['non_events'] = grouped['total'] - grouped['events']\n",
        "\n",
        "        # WOE 및 IV 계산\n",
        "        grouped['event_rate'] = grouped['events'] / total_events\n",
        "        grouped['non_event_rate'] = grouped['non_events'] / total_non_events\n",
        "        grouped['WOE'] = np.log(grouped['event_rate'] / grouped['non_event_rate']).replace([np.inf, -np.inf], 0)\n",
        "        grouped['IV'] = (grouped['event_rate'] - grouped['non_event_rate']) * grouped['WOE']\n",
        "\n",
        "        # IV 값 계산\n",
        "        iv = grouped['IV'].sum()\n",
        "        iv_dict[col] = iv\n",
        "\n",
        "    return iv_dict\n",
        "\n",
        "# 범주형 변수 리스트\n",
        "cat_cols = ['가동여부', '가열로', '금형코드']\n",
        "\n",
        "# IV 값 계산\n",
        "iv_values = calculate_iv(df, '불량판정', cat_cols)\n",
        "\n",
        "# 결과 출력\n",
        "iv_values_df = pd.DataFrame(list(iv_values.items()), columns=['Variable', 'IV'])\n",
        "iv_values_df = iv_values_df.sort_values(by='IV', ascending=False)\n",
        "iv_values_df\n"
      ],
      "metadata": {
        "id": "WgwYUp_5vuEl"
      },
      "execution_count": null,
      "outputs": []
    },
    {
      "cell_type": "markdown",
      "source": [
        "### IV 상위 3개 변수 불량률 계산"
      ],
      "metadata": {
        "id": "jDqNoOFjvxEQ"
      }
    },
    {
      "cell_type": "code",
      "source": [
        "def 구간별_불량_통계(df, column):\n",
        "    # 최소값과 최대값 기준으로 10개 구간 정의\n",
        "    min_value = df[column].min()\n",
        "    max_value = df[column].max()\n",
        "    bins = np.linspace(min_value, max_value, num=11)  # 10개 구간을 나누기 위해 11개의 경계 값 생성\n",
        "\n",
        "    # 수치형 변수를 10개 구간으로 나누기\n",
        "    df['구간'] = pd.cut(df[column], bins=bins, include_lowest=True)\n",
        "\n",
        "    # 각 구간에 대한 통계 정보 계산\n",
        "    grouped = df.groupby('구간').apply(lambda x: pd.Series({\n",
        "        '데이터 수': len(x),\n",
        "        '불량 갯수 (1)': (x['불량판정'] == 1).sum()\n",
        "    })).reset_index()\n",
        "\n",
        "    # 불량률 계산\n",
        "    grouped['불량률'] = grouped['불량 갯수 (1)'] / grouped['데이터 수'] * 100\n",
        "    grouped['불량률'] = grouped['불량률'].round(3)\n",
        "    grouped['불량률'] = grouped['불량률'].astype(str) + '%'\n",
        "\n",
        "    # 수치 범위 추가\n",
        "    grouped['수치 범위'] = grouped['구간'].astype(str)\n",
        "\n",
        "    # 최종 결과 정리\n",
        "    결과 = grouped[['수치 범위', '데이터 수', '불량 갯수 (1)', '불량률']]\n",
        "\n",
        "    return 결과\n",
        "\n",
        "result1 = 구간별_불량_통계(df, '주조압력')\n",
        "result1\n",
        "result2 = 구간별_불량_통계(df, '상금형온도2')\n",
        "result2\n",
        "result3 = 구간별_불량_통계(df, '하금형온도2')\n",
        "result3"
      ],
      "metadata": {
        "id": "jd6_CHuMv2Y7"
      },
      "execution_count": null,
      "outputs": []
    },
    {
      "cell_type": "code",
      "source": [
        "result1 # 주조압력"
      ],
      "metadata": {
        "id": "chZFBFw6v3fa"
      },
      "execution_count": null,
      "outputs": []
    },
    {
      "cell_type": "markdown",
      "source": [
        "### 전체 조건 만족 시 불량률의 감소율"
      ],
      "metadata": {
        "id": "SZvWVodgv7cL"
      }
    },
    {
      "cell_type": "code",
      "source": [
        "num= df.shape[0] # 기존 데이터 90076개\n",
        "num_def = df['불량판정'].value_counts()[1] # 기존 불량 2087\n",
        "def_rate = round((num_def / num) * 100, 3) # 기존 불량률 2.317%\n",
        "\n",
        "df_opt = df.query('주조압력>286.6 & 상금형온도2>127.2 & 상금형온도2<=239.4 & 하금형온도2>117.6 & 하금형온도2<=310.8')\n",
        "num_opt = df_opt.shape[0] # 최적화 후 데이터 77412개\n",
        "num_opt_def = df_opt['불량판정'].value_counts()[1]  # 최적화 후 불량 397개\n",
        "def_rate_opt = round((num_opt_def / num_opt) * 100, 3) # 최적화 후 불량률 0.513%\n",
        "\n",
        "dec_rate = round(((def_rate - def_rate_opt) / def_rate) * 100, 3)# 불량률의 감소율 77.859%"
      ],
      "metadata": {
        "id": "fjCZKziKv-aK"
      },
      "execution_count": null,
      "outputs": []
    },
    {
      "cell_type": "code",
      "source": [
        "labels = ['전', '후']\n",
        "values = [def_rate, def_rate_opt]\n",
        "\n",
        "plt.figure(figsize=(6, 4))\n",
        "plt.bar(labels, values, color=['pink', 'skyblue'])\n",
        "\n",
        "plt.title('공정 최적화 전후 불량률')\n",
        "plt.ylabel('불량률 (%)')\n",
        "\n",
        "plt.ylim(0, max(def_rate, def_rate_opt) + 1)\n",
        "\n",
        "for i, v in enumerate(values):\n",
        "    plt.text(i, v + 0.1, f'{v:.3f}%', ha='center')\n",
        "\n",
        "plt.show()"
      ],
      "metadata": {
        "id": "BFh8PKF9wA-5"
      },
      "execution_count": null,
      "outputs": []
    },
    {
      "cell_type": "markdown",
      "source": [
        "## Decision Tree"
      ],
      "metadata": {
        "id": "MvTAtjduwCN8"
      }
    },
    {
      "cell_type": "code",
      "source": [
        "df = df.drop(['구간', 'ranked', 'bin'], axis = 1)"
      ],
      "metadata": {
        "id": "IU3eGukkwE3k"
      },
      "execution_count": null,
      "outputs": []
    },
    {
      "cell_type": "code",
      "source": [
        "# '가동여부' 변환: 가동이면 0, 아니면 1\n",
        "df['가동여부'] = df['가동여부'].apply(lambda x: 0 if x == '가동' else 1)\n",
        "\n",
        "\n",
        "# '가열로', '금형코드' 칼럼 더미변수로 인코딩\n",
        "df = pd.get_dummies(df, columns = [\"가열로\", \"금형코드\"], drop_first = True)"
      ],
      "metadata": {
        "id": "aBIAYbWswGob"
      },
      "execution_count": null,
      "outputs": []
    },
    {
      "cell_type": "code",
      "source": [
        "# 변수 중요도 시각화\n",
        "# model fit을 위한 X, y 분류\n",
        "X = df.drop(\"불량판정\", axis = 1)\n",
        "y = df[\"불량판정\"]\n",
        "\n",
        "# Decision Tree 모델 학습\n",
        "dt_model = DecisionTreeClassifier(random_state= 42, max_depth=3)\n",
        "\n",
        "dt_model.fit(X, y)\n",
        "plt.figure(figsize=(10, 6))\n",
        "importances = dt_model.feature_importances_\n",
        "indices = np.argsort(importances)[::-1]\n",
        "features = X.columns\n",
        "\n",
        "# 한글 폰트 설정\n",
        "plt.title('Feature Importances (Decision Tree)')\n",
        "sns.barplot(x=importances[indices], y=[features[i] for i in indices], palette=\"coolwarm\")\n",
        "plt.tight_layout()\n",
        "plt.show()"
      ],
      "metadata": {
        "id": "IV6GLr9MwHpL"
      },
      "execution_count": null,
      "outputs": []
    },
    {
      "cell_type": "code",
      "source": [
        "# 트리 시각화\n",
        "from sklearn.tree import plot_tree\n",
        "plt.figure(figsize=(20, 10))  # 그림 크기 설정\n",
        "plot_tree(dt_model, filled=True, feature_names=X.columns, class_names=['Good', 'Defective'], rounded=True)\n",
        "plt.show()"
      ],
      "metadata": {
        "id": "wKB_75qewIv9"
      },
      "execution_count": null,
      "outputs": []
    },
    {
      "cell_type": "code",
      "source": [],
      "metadata": {
        "id": "GRXR_8aJww59"
      },
      "execution_count": null,
      "outputs": []
    }
  ]
}